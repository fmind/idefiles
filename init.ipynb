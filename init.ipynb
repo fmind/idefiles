{
 "cells": [
  {
   "cell_type": "markdown",
   "metadata": {
    "Collapsed": "false"
   },
   "source": [
    "# ENVIRONS"
   ]
  },
  {
   "cell_type": "markdown",
   "metadata": {
    "Collapsed": "false"
   },
   "source": [
    "## Creation"
   ]
  },
  {
   "cell_type": "code",
   "execution_count": 4,
   "metadata": {
    "Collapsed": "false"
   },
   "outputs": [],
   "source": [
    "# %conda env create -f requirements.yml --force"
   ]
  },
  {
   "cell_type": "markdown",
   "metadata": {
    "Collapsed": "false"
   },
   "source": [
    "## Export"
   ]
  },
  {
   "cell_type": "code",
   "execution_count": 1,
   "metadata": {
    "Collapsed": "false"
   },
   "outputs": [
    {
     "name": "stdout",
     "output_type": "stream",
     "text": [
      "\n",
      "Note: you may need to restart the kernel to use updated packages.\n"
     ]
    }
   ],
   "source": [
    "%conda env export -n ide | grep -v \"prefix\" > environment.yml"
   ]
  },
  {
   "cell_type": "markdown",
   "metadata": {
    "Collapsed": "false"
   },
   "source": [
    "# EXTENSIONS"
   ]
  },
  {
   "cell_type": "markdown",
   "metadata": {
    "Collapsed": "false"
   },
   "source": [
    "# Lab extensions"
   ]
  },
  {
   "cell_type": "code",
   "execution_count": 2,
   "metadata": {
    "Collapsed": "false"
   },
   "outputs": [
    {
     "name": "stdout",
     "output_type": "stream",
     "text": [
      "Installing @jupyterlab/toc ...\n",
      "Installing @jupyterlab/git ...\n",
      "Installing @jupyterlab/celltags ...\n",
      "Installing @krassowski/jupyterlab-lsp ...\n",
      "Installing @parente/jupyterlab-quickopen ...\n",
      "Installing @ijmbarr/jupyterlab_spellchecker ...\n",
      "Installing @aquirdturtle/collapsible_headings ...\n",
      "Installing @lckr/jupyterlab_variableinspector ...\n",
      "Installing @jupyter-widgets/jupyterlab-manager ...\n",
      "Installing @ryantam626/jupyterlab_code_formatter ...\n",
      "Installing jupyterlab_filetree ...\n",
      "Installing jupyterlab-jupytext ...\n",
      "Installing nbdime-jupyterlab ...\n",
      "Installing jupyterlab_vim ...\n",
      "Installing qgrid2 ...\n",
      "Building ...\n",
      "[LabBuildApp] JupyterLab 1.2.6\n",
      "[LabBuildApp] Building in /Users/mederic/.anaconda/envs/ide/share/jupyter/lab\n",
      "[LabBuildApp] Building jupyterlab assets (build:prod:minimize)\n"
     ]
    },
    {
     "data": {
      "text/plain": [
       "'DONE'"
      ]
     },
     "execution_count": 2,
     "metadata": {},
     "output_type": "execute_result"
    }
   ],
   "source": [
    "LAB_EXTENSIONS = [\n",
    "    '@jupyterlab/toc',\n",
    "    '@jupyterlab/git',\n",
    "    '@jupyterlab/celltags',\n",
    "    '@krassowski/jupyterlab-lsp',\n",
    "    '@parente/jupyterlab-quickopen',\n",
    "    '@ijmbarr/jupyterlab_spellchecker',\n",
    "    '@aquirdturtle/collapsible_headings',\n",
    "    '@lckr/jupyterlab_variableinspector',\n",
    "    '@jupyter-widgets/jupyterlab-manager',\n",
    "    '@ryantam626/jupyterlab_code_formatter',\n",
    "    'jupyterlab_filetree',\n",
    "    'jupyterlab-jupytext',\n",
    "    'nbdime-jupyterlab',\n",
    "    'jupyterlab_vim',\n",
    "    'qgrid2',\n",
    "]\n",
    "\n",
    "for extension in LAB_EXTENSIONS:\n",
    "    print(f'Installing {extension} ...')\n",
    "    !jupyter labextension install --no-build \"$extension\"\n",
    "\n",
    "print('Building ...')\n",
    "!jupyter lab build\n",
    "\"DONE\""
   ]
  },
  {
   "cell_type": "markdown",
   "metadata": {
    "Collapsed": "false"
   },
   "source": [
    "# Server extensions"
   ]
  },
  {
   "cell_type": "code",
   "execution_count": 3,
   "metadata": {
    "Collapsed": "false"
   },
   "outputs": [
    {
     "name": "stdout",
     "output_type": "stream",
     "text": [
      "Enabling jupyterlab_code_formatter ...\n",
      "Enabling: jupyterlab_code_formatter\n",
      "- Writing config: /Users/mederic/.jupyter\n",
      "    - Validating...\n",
      "      jupyterlab_code_formatter  \u001b[32mOK\u001b[0m\n"
     ]
    },
    {
     "data": {
      "text/plain": [
       "'DONE'"
      ]
     },
     "execution_count": 3,
     "metadata": {},
     "output_type": "execute_result"
    }
   ],
   "source": [
    "SERVER_EXTENSIONS = [\n",
    "    'jupyterlab_code_formatter',\n",
    "]\n",
    "\n",
    "for extension in SERVER_EXTENSIONS:\n",
    "    print(f'Enabling {extension} ...')\n",
    "    !jupyter serverextension enable --py $extension\n",
    "\n",
    "\"DONE\""
   ]
  }
 ],
 "metadata": {
  "kernelspec": {
   "display_name": "Python [conda env:ide] *",
   "language": "python",
   "name": "conda-env-ide-py"
  },
  "language_info": {
   "codemirror_mode": {
    "name": "ipython",
    "version": 3
   },
   "file_extension": ".py",
   "mimetype": "text/x-python",
   "name": "python",
   "nbconvert_exporter": "python",
   "pygments_lexer": "ipython3",
   "version": "3.7.6"
  },
  "toc-autonumbering": true,
  "toc-showcode": false,
  "toc-showmarkdowntxt": false
 },
 "nbformat": 4,
 "nbformat_minor": 4
}
