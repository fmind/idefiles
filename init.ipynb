{
 "cells": [
  {
   "cell_type": "markdown",
   "metadata": {
    "Collapsed": "false"
   },
   "source": [
    "# ENVIRONS"
   ]
  },
  {
   "cell_type": "markdown",
   "metadata": {
    "Collapsed": "false"
   },
   "source": [
    "## Creation"
   ]
  },
  {
   "cell_type": "code",
   "execution_count": 7,
   "metadata": {
    "Collapsed": "false",
    "collapsed": true,
    "jupyter": {
     "outputs_hidden": true
    }
   },
   "outputs": [
    {
     "name": "stdout",
     "output_type": "stream",
     "text": [
      "Collecting package metadata (repodata.json): done\n",
      "Solving environment: done\n",
      "\n",
      "Downloading and Extracting Packages\n",
      "mkl-2020.0           | 93.5 MB   | ##################################### | 100% \n",
      "Preparing transaction: done\n",
      "Verifying transaction: done\n",
      "Executing transaction: - b'Enabling nb_conda_kernels...\\nStatus: enabled\\n'\n",
      "\\ b'Enabling notebook extension nb_conda/main...\\n      - Validating: \\x1b[32mOK\\x1b[0m\\nEnabling tree extension nb_conda/tree...\\n      - Validating: \\x1b[32mOK\\x1b[0m\\nEnabling: nb_conda\\n- Writing config: /Users/mederic/.anaconda/envs/ide/etc/jupyter\\n    - Validating...\\n      nb_conda 2.2.1 \\x1b[32mOK\\x1b[0m\\n'\n",
      "done\n",
      "Ran pip subprocess with arguments:\n",
      "['/Users/mederic/.anaconda/envs/ide/bin/python', '-m', 'pip', 'install', '-U', '-r', '/Users/mederic/Projects/idefiles/condaenv.9vwzvjd9.requirements.txt']\n",
      "Pip subprocess output:\n",
      "Processing /Users/mederic/Library/Caches/pip/wheels/a4/b2/d4/4ac230ec1d7f5a16c4162d6aa18d4a327e2a530fbfe9936c8f/jupyter_lsp-0.7.0b0-py3-none-any.whl\n",
      "Processing /Users/mederic/Library/Caches/pip/wheels/24/73/7b/6dc6d96151d681c631a7a71121870dd3e53ee7b5b45a5a9fff/jupyterlab_quickopen-0.3.0-py3-none-any.whl\n",
      "Collecting jupyterlab_code_formatter\n",
      "  Downloading jupyterlab_code_formatter-1.0.3-py3-none-any.whl (5.7 kB)\n",
      "Collecting python-language-server\n",
      "  Downloading python_language_server-0.31.8-py3-none-any.whl (46 kB)\n",
      "Requirement already satisfied, skipping upgrade: setuptools in /Users/mederic/.anaconda/envs/ide/lib/python3.7/site-packages (from jupyter-lsp->-r /Users/mederic/Projects/idefiles/condaenv.9vwzvjd9.requirements.txt (line 1)) (45.1.0.post20200127)\n",
      "Requirement already satisfied, skipping upgrade: notebook>=4.3.1 in /Users/mederic/.anaconda/envs/ide/lib/python3.7/site-packages (from jupyter-lsp->-r /Users/mederic/Projects/idefiles/condaenv.9vwzvjd9.requirements.txt (line 1)) (6.0.3)\n",
      "Requirement already satisfied, skipping upgrade: jupyterlab<2.0,>=1.2 in /Users/mederic/.anaconda/envs/ide/lib/python3.7/site-packages (from jupyterlab_code_formatter->-r /Users/mederic/Projects/idefiles/condaenv.9vwzvjd9.requirements.txt (line 3)) (1.2.6)\n",
      "Collecting packaging<20.0,>=19.2\n",
      "  Downloading packaging-19.2-py2.py3-none-any.whl (30 kB)\n",
      "Collecting python-jsonrpc-server>=0.3.2\n",
      "  Downloading python_jsonrpc_server-0.3.4-py3-none-any.whl (9.0 kB)\n",
      "Collecting pluggy\n",
      "  Downloading pluggy-0.13.1-py2.py3-none-any.whl (18 kB)\n",
      "Collecting ujson<=1.35; platform_system != \"Windows\"\n",
      "  Downloading ujson-1.35.tar.gz (192 kB)\n",
      "Collecting jedi<0.16,>=0.14.1\n",
      "  Downloading jedi-0.15.2-py2.py3-none-any.whl (1.1 MB)\n",
      "Requirement already satisfied, skipping upgrade: nbconvert in /Users/mederic/.anaconda/envs/ide/lib/python3.7/site-packages (from notebook>=4.3.1->jupyter-lsp->-r /Users/mederic/Projects/idefiles/condaenv.9vwzvjd9.requirements.txt (line 1)) (5.6.1)\n",
      "Requirement already satisfied, skipping upgrade: ipython-genutils in /Users/mederic/.anaconda/envs/ide/lib/python3.7/site-packages (from notebook>=4.3.1->jupyter-lsp->-r /Users/mederic/Projects/idefiles/condaenv.9vwzvjd9.requirements.txt (line 1)) (0.2.0)\n",
      "Requirement already satisfied, skipping upgrade: jupyter-client>=5.3.4 in /Users/mederic/.anaconda/envs/ide/lib/python3.7/site-packages (from notebook>=4.3.1->jupyter-lsp->-r /Users/mederic/Projects/idefiles/condaenv.9vwzvjd9.requirements.txt (line 1)) (5.3.4)\n",
      "Requirement already satisfied, skipping upgrade: nbformat in /Users/mederic/.anaconda/envs/ide/lib/python3.7/site-packages (from notebook>=4.3.1->jupyter-lsp->-r /Users/mederic/Projects/idefiles/condaenv.9vwzvjd9.requirements.txt (line 1)) (5.0.4)\n",
      "Requirement already satisfied, skipping upgrade: traitlets>=4.2.1 in /Users/mederic/.anaconda/envs/ide/lib/python3.7/site-packages (from notebook>=4.3.1->jupyter-lsp->-r /Users/mederic/Projects/idefiles/condaenv.9vwzvjd9.requirements.txt (line 1)) (4.3.3)\n",
      "Requirement already satisfied, skipping upgrade: pyzmq>=17 in /Users/mederic/.anaconda/envs/ide/lib/python3.7/site-packages (from notebook>=4.3.1->jupyter-lsp->-r /Users/mederic/Projects/idefiles/condaenv.9vwzvjd9.requirements.txt (line 1)) (18.1.1)\n",
      "Requirement already satisfied, skipping upgrade: jupyter-core>=4.6.1 in /Users/mederic/.anaconda/envs/ide/lib/python3.7/site-packages (from notebook>=4.3.1->jupyter-lsp->-r /Users/mederic/Projects/idefiles/condaenv.9vwzvjd9.requirements.txt (line 1)) (4.6.1)\n",
      "Requirement already satisfied, skipping upgrade: ipykernel in /Users/mederic/.anaconda/envs/ide/lib/python3.7/site-packages (from notebook>=4.3.1->jupyter-lsp->-r /Users/mederic/Projects/idefiles/condaenv.9vwzvjd9.requirements.txt (line 1)) (5.1.4)\n",
      "Requirement already satisfied, skipping upgrade: terminado>=0.8.1 in /Users/mederic/.anaconda/envs/ide/lib/python3.7/site-packages (from notebook>=4.3.1->jupyter-lsp->-r /Users/mederic/Projects/idefiles/condaenv.9vwzvjd9.requirements.txt (line 1)) (0.8.3)\n",
      "Requirement already satisfied, skipping upgrade: tornado>=5.0 in /Users/mederic/.anaconda/envs/ide/lib/python3.7/site-packages (from notebook>=4.3.1->jupyter-lsp->-r /Users/mederic/Projects/idefiles/condaenv.9vwzvjd9.requirements.txt (line 1)) (6.0.3)\n",
      "Requirement already satisfied, skipping upgrade: Send2Trash in /Users/mederic/.anaconda/envs/ide/lib/python3.7/site-packages (from notebook>=4.3.1->jupyter-lsp->-r /Users/mederic/Projects/idefiles/condaenv.9vwzvjd9.requirements.txt (line 1)) (1.5.0)\n",
      "Requirement already satisfied, skipping upgrade: jinja2 in /Users/mederic/.anaconda/envs/ide/lib/python3.7/site-packages (from notebook>=4.3.1->jupyter-lsp->-r /Users/mederic/Projects/idefiles/condaenv.9vwzvjd9.requirements.txt (line 1)) (2.11.1)\n",
      "Requirement already satisfied, skipping upgrade: prometheus-client in /Users/mederic/.anaconda/envs/ide/lib/python3.7/site-packages (from notebook>=4.3.1->jupyter-lsp->-r /Users/mederic/Projects/idefiles/condaenv.9vwzvjd9.requirements.txt (line 1)) (0.7.1)\n",
      "Requirement already satisfied, skipping upgrade: jupyterlab_server~=1.0.0 in /Users/mederic/.anaconda/envs/ide/lib/python3.7/site-packages (from jupyterlab<2.0,>=1.2->jupyterlab_code_formatter->-r /Users/mederic/Projects/idefiles/condaenv.9vwzvjd9.requirements.txt (line 3)) (1.0.6)\n",
      "Requirement already satisfied, skipping upgrade: six in /Users/mederic/.anaconda/envs/ide/lib/python3.7/site-packages (from packaging<20.0,>=19.2->jupyterlab_code_formatter->-r /Users/mederic/Projects/idefiles/condaenv.9vwzvjd9.requirements.txt (line 3)) (1.14.0)\n",
      "Collecting pyparsing>=2.0.2\n",
      "  Using cached pyparsing-2.4.6-py2.py3-none-any.whl (67 kB)\n",
      "Requirement already satisfied, skipping upgrade: importlib-metadata>=0.12; python_version < \"3.8\" in /Users/mederic/.anaconda/envs/ide/lib/python3.7/site-packages (from pluggy->python-language-server->-r /Users/mederic/Projects/idefiles/condaenv.9vwzvjd9.requirements.txt (line 4)) (1.5.0)\n",
      "Requirement already satisfied, skipping upgrade: parso>=0.5.2 in /Users/mederic/.anaconda/envs/ide/lib/python3.7/site-packages (from jedi<0.16,>=0.14.1->python-language-server->-r /Users/mederic/Projects/idefiles/condaenv.9vwzvjd9.requirements.txt (line 4)) (0.6.0)\n",
      "Requirement already satisfied, skipping upgrade: mistune<2,>=0.8.1 in /Users/mederic/.anaconda/envs/ide/lib/python3.7/site-packages (from nbconvert->notebook>=4.3.1->jupyter-lsp->-r /Users/mederic/Projects/idefiles/condaenv.9vwzvjd9.requirements.txt (line 1)) (0.8.4)\n",
      "Requirement already satisfied, skipping upgrade: testpath in /Users/mederic/.anaconda/envs/ide/lib/python3.7/site-packages (from nbconvert->notebook>=4.3.1->jupyter-lsp->-r /Users/mederic/Projects/idefiles/condaenv.9vwzvjd9.requirements.txt (line 1)) (0.4.4)\n",
      "Requirement already satisfied, skipping upgrade: defusedxml in /Users/mederic/.anaconda/envs/ide/lib/python3.7/site-packages (from nbconvert->notebook>=4.3.1->jupyter-lsp->-r /Users/mederic/Projects/idefiles/condaenv.9vwzvjd9.requirements.txt (line 1)) (0.6.0)\n",
      "Requirement already satisfied, skipping upgrade: entrypoints>=0.2.2 in /Users/mederic/.anaconda/envs/ide/lib/python3.7/site-packages (from nbconvert->notebook>=4.3.1->jupyter-lsp->-r /Users/mederic/Projects/idefiles/condaenv.9vwzvjd9.requirements.txt (line 1)) (0.3)\n",
      "Requirement already satisfied, skipping upgrade: pandocfilters>=1.4.1 in /Users/mederic/.anaconda/envs/ide/lib/python3.7/site-packages (from nbconvert->notebook>=4.3.1->jupyter-lsp->-r /Users/mederic/Projects/idefiles/condaenv.9vwzvjd9.requirements.txt (line 1)) (1.4.2)\n",
      "Requirement already satisfied, skipping upgrade: pygments in /Users/mederic/.anaconda/envs/ide/lib/python3.7/site-packages (from nbconvert->notebook>=4.3.1->jupyter-lsp->-r /Users/mederic/Projects/idefiles/condaenv.9vwzvjd9.requirements.txt (line 1)) (2.5.2)\n",
      "Requirement already satisfied, skipping upgrade: bleach in /Users/mederic/.anaconda/envs/ide/lib/python3.7/site-packages (from nbconvert->notebook>=4.3.1->jupyter-lsp->-r /Users/mederic/Projects/idefiles/condaenv.9vwzvjd9.requirements.txt (line 1)) (3.1.0)\n",
      "Requirement already satisfied, skipping upgrade: python-dateutil>=2.1 in /Users/mederic/.anaconda/envs/ide/lib/python3.7/site-packages (from jupyter-client>=5.3.4->notebook>=4.3.1->jupyter-lsp->-r /Users/mederic/Projects/idefiles/condaenv.9vwzvjd9.requirements.txt (line 1)) (2.8.1)\n",
      "Requirement already satisfied, skipping upgrade: jsonschema!=2.5.0,>=2.4 in /Users/mederic/.anaconda/envs/ide/lib/python3.7/site-packages (from nbformat->notebook>=4.3.1->jupyter-lsp->-r /Users/mederic/Projects/idefiles/condaenv.9vwzvjd9.requirements.txt (line 1)) (3.2.0)\n",
      "Requirement already satisfied, skipping upgrade: decorator in /Users/mederic/.anaconda/envs/ide/lib/python3.7/site-packages (from traitlets>=4.2.1->notebook>=4.3.1->jupyter-lsp->-r /Users/mederic/Projects/idefiles/condaenv.9vwzvjd9.requirements.txt (line 1)) (4.4.1)\n",
      "Requirement already satisfied, skipping upgrade: ipython>=5.0.0 in /Users/mederic/.anaconda/envs/ide/lib/python3.7/site-packages (from ipykernel->notebook>=4.3.1->jupyter-lsp->-r /Users/mederic/Projects/idefiles/condaenv.9vwzvjd9.requirements.txt (line 1)) (7.12.0)\n",
      "Requirement already satisfied, skipping upgrade: appnope; platform_system == \"Darwin\" in /Users/mederic/.anaconda/envs/ide/lib/python3.7/site-packages (from ipykernel->notebook>=4.3.1->jupyter-lsp->-r /Users/mederic/Projects/idefiles/condaenv.9vwzvjd9.requirements.txt (line 1)) (0.1.0)\n",
      "Requirement already satisfied, skipping upgrade: MarkupSafe>=0.23 in /Users/mederic/.anaconda/envs/ide/lib/python3.7/site-packages (from jinja2->notebook>=4.3.1->jupyter-lsp->-r /Users/mederic/Projects/idefiles/condaenv.9vwzvjd9.requirements.txt (line 1)) (1.1.1)\n",
      "Requirement already satisfied, skipping upgrade: json5 in /Users/mederic/.anaconda/envs/ide/lib/python3.7/site-packages (from jupyterlab_server~=1.0.0->jupyterlab<2.0,>=1.2->jupyterlab_code_formatter->-r /Users/mederic/Projects/idefiles/condaenv.9vwzvjd9.requirements.txt (line 3)) (0.9.0)\n",
      "Requirement already satisfied, skipping upgrade: zipp>=0.5 in /Users/mederic/.anaconda/envs/ide/lib/python3.7/site-packages (from importlib-metadata>=0.12; python_version < \"3.8\"->pluggy->python-language-server->-r /Users/mederic/Projects/idefiles/condaenv.9vwzvjd9.requirements.txt (line 4)) (2.1.0)\n",
      "Requirement already satisfied, skipping upgrade: webencodings in /Users/mederic/.anaconda/envs/ide/lib/python3.7/site-packages (from bleach->nbconvert->notebook>=4.3.1->jupyter-lsp->-r /Users/mederic/Projects/idefiles/condaenv.9vwzvjd9.requirements.txt (line 1)) (0.5.1)\n",
      "Requirement already satisfied, skipping upgrade: pyrsistent>=0.14.0 in /Users/mederic/.anaconda/envs/ide/lib/python3.7/site-packages (from jsonschema!=2.5.0,>=2.4->nbformat->notebook>=4.3.1->jupyter-lsp->-r /Users/mederic/Projects/idefiles/condaenv.9vwzvjd9.requirements.txt (line 1)) (0.15.7)\n",
      "Requirement already satisfied, skipping upgrade: attrs>=17.4.0 in /Users/mederic/.anaconda/envs/ide/lib/python3.7/site-packages (from jsonschema!=2.5.0,>=2.4->nbformat->notebook>=4.3.1->jupyter-lsp->-r /Users/mederic/Projects/idefiles/condaenv.9vwzvjd9.requirements.txt (line 1)) (19.3.0)\n",
      "Requirement already satisfied, skipping upgrade: pexpect; sys_platform != \"win32\" in /Users/mederic/.anaconda/envs/ide/lib/python3.7/site-packages (from ipython>=5.0.0->ipykernel->notebook>=4.3.1->jupyter-lsp->-r /Users/mederic/Projects/idefiles/condaenv.9vwzvjd9.requirements.txt (line 1)) (4.8.0)\n",
      "Requirement already satisfied, skipping upgrade: pickleshare in /Users/mederic/.anaconda/envs/ide/lib/python3.7/site-packages (from ipython>=5.0.0->ipykernel->notebook>=4.3.1->jupyter-lsp->-r /Users/mederic/Projects/idefiles/condaenv.9vwzvjd9.requirements.txt (line 1)) (0.7.5)\n",
      "Requirement already satisfied, skipping upgrade: backcall in /Users/mederic/.anaconda/envs/ide/lib/python3.7/site-packages (from ipython>=5.0.0->ipykernel->notebook>=4.3.1->jupyter-lsp->-r /Users/mederic/Projects/idefiles/condaenv.9vwzvjd9.requirements.txt (line 1)) (0.1.0)\n",
      "Requirement already satisfied, skipping upgrade: prompt-toolkit!=3.0.0,!=3.0.1,<3.1.0,>=2.0.0 in /Users/mederic/.anaconda/envs/ide/lib/python3.7/site-packages (from ipython>=5.0.0->ipykernel->notebook>=4.3.1->jupyter-lsp->-r /Users/mederic/Projects/idefiles/condaenv.9vwzvjd9.requirements.txt (line 1)) (3.0.3)\n",
      "Requirement already satisfied, skipping upgrade: ptyprocess>=0.5 in /Users/mederic/.anaconda/envs/ide/lib/python3.7/site-packages (from pexpect; sys_platform != \"win32\"->ipython>=5.0.0->ipykernel->notebook>=4.3.1->jupyter-lsp->-r /Users/mederic/Projects/idefiles/condaenv.9vwzvjd9.requirements.txt (line 1)) (0.6.0)\n",
      "Requirement already satisfied, skipping upgrade: wcwidth in /Users/mederic/.anaconda/envs/ide/lib/python3.7/site-packages (from prompt-toolkit!=3.0.0,!=3.0.1,<3.1.0,>=2.0.0->ipython>=5.0.0->ipykernel->notebook>=4.3.1->jupyter-lsp->-r /Users/mederic/Projects/idefiles/condaenv.9vwzvjd9.requirements.txt (line 1)) (0.1.8)\n",
      "Building wheels for collected packages: ujson\n",
      "  Building wheel for ujson (setup.py): started\n",
      "  Building wheel for ujson (setup.py): finished with status 'done'\n",
      "  Created wheel for ujson: filename=ujson-1.35-cp37-cp37m-macosx_10_9_x86_64.whl size=21421 sha256=274d2cb47cc77ba1668ed3710142a06f0908786c230455ba01ad2ab034af4ac6\n",
      "  Stored in directory: /Users/mederic/Library/Caches/pip/wheels/55/e8/7e/e36b183f3e654b73fc04eb1b656ad3c2773077dd531cb35c4d\n",
      "Successfully built ujson\n",
      "Installing collected packages: jupyter-lsp, jupyterlab-quickopen, pyparsing, packaging, jupyterlab-code-formatter, ujson, python-jsonrpc-server, pluggy, jedi, python-language-server\n",
      "  Attempting uninstall: jedi\n",
      "    Found existing installation: jedi 0.16.0\n",
      "    Uninstalling jedi-0.16.0:\n",
      "      Successfully uninstalled jedi-0.16.0\n",
      "Successfully installed jedi-0.15.2 jupyter-lsp-0.7.0b0 jupyterlab-code-formatter-1.0.3 jupyterlab-quickopen-0.3.0 packaging-19.2 pluggy-0.13.1 pyparsing-2.4.6 python-jsonrpc-server-0.3.4 python-language-server-0.31.8 ujson-1.35\n",
      "\n",
      "#\n",
      "# To activate this environment, use\n",
      "#\n",
      "#     $ conda activate ide\n",
      "#\n",
      "# To deactivate an active environment, use\n",
      "#\n",
      "#     $ conda deactivate\n",
      "\n",
      "\n",
      "Note: you may need to restart the kernel to use updated packages.\n"
     ]
    }
   ],
   "source": [
    "%conda env create -f requirements.yml --force"
   ]
  },
  {
   "cell_type": "markdown",
   "metadata": {
    "Collapsed": "false"
   },
   "source": [
    "## Export"
   ]
  },
  {
   "cell_type": "code",
   "execution_count": 1,
   "metadata": {
    "Collapsed": "false"
   },
   "outputs": [
    {
     "name": "stdout",
     "output_type": "stream",
     "text": [
      "\n",
      "Note: you may need to restart the kernel to use updated packages.\n"
     ]
    }
   ],
   "source": [
    "%conda env export -n ide | grep -v \"prefix\" > environment.yml"
   ]
  },
  {
   "cell_type": "markdown",
   "metadata": {
    "Collapsed": "false"
   },
   "source": [
    "# EXTENSIONS"
   ]
  },
  {
   "cell_type": "markdown",
   "metadata": {
    "Collapsed": "false"
   },
   "source": [
    "# Lab extensions"
   ]
  },
  {
   "cell_type": "code",
   "execution_count": 2,
   "metadata": {
    "Collapsed": "false"
   },
   "outputs": [
    {
     "name": "stdout",
     "output_type": "stream",
     "text": [
      "Installing @jupyterlab/toc ...\n",
      "Installing @jupyterlab/git ...\n",
      "Installing @jupyterlab/celltags ...\n",
      "Installing @krassowski/jupyterlab-lsp ...\n",
      "Installing @parente/jupyterlab-quickopen ...\n",
      "Installing @ijmbarr/jupyterlab_spellchecker ...\n",
      "Installing @aquirdturtle/collapsible_headings ...\n",
      "Installing @lckr/jupyterlab_variableinspector ...\n",
      "Installing @jupyter-widgets/jupyterlab-manager ...\n",
      "Installing @ryantam626/jupyterlab_code_formatter ...\n",
      "Installing jupyterlab_filetree ...\n",
      "Installing jupyterlab-jupytext ...\n",
      "Installing nbdime-jupyterlab ...\n",
      "Installing jupyterlab_vim ...\n",
      "Building ...\n",
      "[LabBuildApp] JupyterLab 1.2.6\n",
      "[LabBuildApp] Building in /home/fmind/.anaconda/envs/ide/share/jupyter/lab\n",
      "[LabBuildApp] Building jupyterlab assets (build:prod:minimize)\n"
     ]
    },
    {
     "data": {
      "text/plain": [
       "'DONE'"
      ]
     },
     "execution_count": 2,
     "metadata": {},
     "output_type": "execute_result"
    }
   ],
   "source": [
    "LAB_EXTENSIONS = [\n",
    "    '@jupyterlab/toc',\n",
    "    '@jupyterlab/git',\n",
    "    '@jupyterlab/celltags',\n",
    "    '@krassowski/jupyterlab-lsp',\n",
    "    '@parente/jupyterlab-quickopen',\n",
    "    '@ijmbarr/jupyterlab_spellchecker',\n",
    "    '@aquirdturtle/collapsible_headings',\n",
    "    '@lckr/jupyterlab_variableinspector',\n",
    "    '@jupyter-widgets/jupyterlab-manager',\n",
    "    '@ryantam626/jupyterlab_code_formatter',\n",
    "    'jupyterlab_filetree',\n",
    "    'jupyterlab-jupytext',\n",
    "    'nbdime-jupyterlab',\n",
    "    'jupyterlab_vim',\n",
    "]\n",
    "\n",
    "for extension in LAB_EXTENSIONS:\n",
    "    print(f'Installing {extension} ...')\n",
    "    !jupyter labextension install --no-build \"$extension\"\n",
    "\n",
    "print('Building ...')\n",
    "!jupyter lab build\n",
    "\"DONE\""
   ]
  },
  {
   "cell_type": "markdown",
   "metadata": {
    "Collapsed": "false"
   },
   "source": [
    "# Server extensions"
   ]
  },
  {
   "cell_type": "code",
   "execution_count": 3,
   "metadata": {
    "Collapsed": "false"
   },
   "outputs": [
    {
     "name": "stdout",
     "output_type": "stream",
     "text": [
      "Enabling jupyterlab_code_formatter ...\n",
      "Enabling: jupyterlab_code_formatter\n",
      "- Writing config: /home/fmind/.jupyter\n",
      "    - Validating...\n",
      "      jupyterlab_code_formatter  \u001b[32mOK\u001b[0m\n"
     ]
    },
    {
     "data": {
      "text/plain": [
       "'DONE'"
      ]
     },
     "execution_count": 3,
     "metadata": {},
     "output_type": "execute_result"
    }
   ],
   "source": [
    "SERVER_EXTENSIONS = [\n",
    "    'jupyterlab_code_formatter',\n",
    "]\n",
    "\n",
    "for extension in SERVER_EXTENSIONS:\n",
    "    print(f'Enabling {extension} ...')\n",
    "    !jupyter serverextension enable --py $extension\n",
    "\n",
    "\"DONE\""
   ]
  }
 ],
 "metadata": {
  "kernelspec": {
   "display_name": "Python 3",
   "language": "python",
   "name": "python3"
  },
  "language_info": {
   "codemirror_mode": {
    "name": "ipython",
    "version": 3
   },
   "file_extension": ".py",
   "mimetype": "text/x-python",
   "name": "python",
   "nbconvert_exporter": "python",
   "pygments_lexer": "ipython3",
   "version": "3.7.6"
  },
  "toc-autonumbering": true,
  "toc-showcode": false,
  "toc-showmarkdowntxt": false
 },
 "nbformat": 4,
 "nbformat_minor": 4
}
